{
 "cells": [
  {
   "cell_type": "code",
   "execution_count": null,
   "id": "a0270591",
   "metadata": {},
   "outputs": [],
   "source": [
    "import random\n",
    "print(\"1.rocks 2.poper 3.scissors\")\n",
    "b = int(input())\n",
    "a = random.randint(1,3)\n",
    "if b==1:\n",
    " print(a)\n",
    "elif b==2:\n",
    " print(a)\n",
    "else:\n",
    " print(a)"
   ]
  }
 ],
 "metadata": {
  "kernelspec": {
   "display_name": "Python 3 (ipykernel)",
   "language": "python",
   "name": "python3"
  },
  "language_info": {
   "codemirror_mode": {
    "name": "ipython",
    "version": 3
   },
   "file_extension": ".py",
   "mimetype": "text/x-python",
   "name": "python",
   "nbconvert_exporter": "python",
   "pygments_lexer": "ipython3",
   "version": "3.9.7"
  }
 },
 "nbformat": 4,
 "nbformat_minor": 5
}
